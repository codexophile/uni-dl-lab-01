{
 "cells": [
  {
   "cell_type": "markdown",
   "id": "06f4e98e",
   "metadata": {},
   "source": [
    "# Task 2\n",
    "Download the Au_nanoParticle_dataset.csv and load the data of the csv file as a dataframe in a new\n",
    "colab notebook. Do the below subtask with the dataset. Use any of the above libraries if needed."
   ]
  },
  {
   "cell_type": "markdown",
   "id": "92fd5f84",
   "metadata": {},
   "source": [
    "1. Create a new dataframe by filtering all the columns [i.e., features] except N_total, N_bulk,\n",
    "N_surface and R_avg columns."
   ]
  },
  {
   "cell_type": "code",
   "execution_count": null,
   "id": "80b179d8",
   "metadata": {},
   "outputs": [],
   "source": []
  }
 ],
 "metadata": {
  "language_info": {
   "name": "python"
  }
 },
 "nbformat": 4,
 "nbformat_minor": 5
}
